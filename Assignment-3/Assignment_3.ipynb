{
  "nbformat": 4,
  "nbformat_minor": 0,
  "metadata": {
    "colab": {
      "provenance": [],
      "collapsed_sections": []
    },
    "kernelspec": {
      "name": "python3",
      "display_name": "Python 3"
    },
    "language_info": {
      "name": "python"
    }
  },
  "cells": [
    {
      "cell_type": "code",
      "source": [
        "import torch\n",
        "from IPython.display import clear_output\n",
        "pt_version = torch.__version__\n",
        "print(pt_version)"
      ],
      "metadata": {
        "colab": {
          "base_uri": "https://localhost:8080/"
        },
        "id": "BcxrT-ZUUXRK",
        "outputId": "40a66779-c7c3-4b9f-bf7f-ac8298211204"
      },
      "execution_count": 93,
      "outputs": [
        {
          "output_type": "stream",
          "name": "stdout",
          "text": [
            "1.12.1+cu113\n"
          ]
        }
      ]
    },
    {
      "cell_type": "code",
      "execution_count": 125,
      "metadata": {
        "id": "urNoX0KYCjLN"
      },
      "outputs": [],
      "source": [
        "# Run it for once before\n",
        "!pip install torch-geometric-temporal\n",
        "clear_output()"
      ]
    },
    {
      "cell_type": "code",
      "source": [
        "import pandas as pd\n",
        "import numpy as np\n",
        "from tqdm import tqdm\n",
        "import matplotlib.pyplot as plt\n",
        "import copy"
      ],
      "metadata": {
        "id": "0mHjXCJqCrNL"
      },
      "execution_count": 126,
      "outputs": []
    },
    {
      "cell_type": "code",
      "source": [
        "import torch.nn.functional as F\n",
        "from torch_geometric.data import Dataset, Data\n",
        "from torch_geometric.utils import dense_to_sparse"
      ],
      "metadata": {
        "id": "vgiweTsVPiaX"
      },
      "execution_count": 127,
      "outputs": []
    },
    {
      "cell_type": "markdown",
      "source": [
        "## Hyperparameters"
      ],
      "metadata": {
        "id": "Vh-3YX9BL9Mm"
      }
    },
    {
      "cell_type": "code",
      "source": [
        "isEdgeLength=True\n",
        "early_stopping=False\n",
        "toDecay=False\n",
        "nIter=20"
      ],
      "metadata": {
        "id": "EJsFpMeWL8S_"
      },
      "execution_count": 215,
      "outputs": []
    },
    {
      "cell_type": "markdown",
      "source": [
        "## Loading the dataset"
      ],
      "metadata": {
        "id": "cWFCoDlTOD4V"
      }
    },
    {
      "cell_type": "code",
      "source": [
        "traffic_data=pd.read_csv(\"d1_X.csv\",index_col=0)"
      ],
      "metadata": {
        "id": "Bqti5lFSLQeJ"
      },
      "execution_count": 216,
      "outputs": []
    },
    {
      "cell_type": "code",
      "source": [
        "traffic_data.head()"
      ],
      "metadata": {
        "colab": {
          "base_uri": "https://localhost:8080/",
          "height": 467
        },
        "id": "uB6ce02oY6Ze",
        "outputId": "8e8befc3-acb2-461b-b3d9-f14c597f2027"
      },
      "execution_count": 217,
      "outputs": [
        {
          "output_type": "execute_result",
          "data": {
            "text/plain": [
              "                     288416374  288416379  288416380  288416386  288416399  \\\n",
              "2016-10-31 16:02:00          0          1          1          0          0   \n",
              "2016-10-31 16:07:00          0          1          3          0          0   \n",
              "2016-10-31 16:12:00          0          4          5          2          0   \n",
              "2016-10-31 16:17:00          6          5          3          7          1   \n",
              "2016-10-31 16:22:00          2          5          5          4          0   \n",
              "\n",
              "                     314622896  314622918  314623160  314635488  314655436  \\\n",
              "2016-10-31 16:02:00          0          0          0          1          0   \n",
              "2016-10-31 16:07:00          1          8          3          7          0   \n",
              "2016-10-31 16:12:00          0          7          5          2          0   \n",
              "2016-10-31 16:17:00          4         12          3          6          0   \n",
              "2016-10-31 16:22:00          5         20          9         10          0   \n",
              "\n",
              "                     ...  8318574243  8318574244  8318574253  8320254523  \\\n",
              "2016-10-31 16:02:00  ...           0           0           0           1   \n",
              "2016-10-31 16:07:00  ...           0           0           0           1   \n",
              "2016-10-31 16:12:00  ...           0           0           1           1   \n",
              "2016-10-31 16:17:00  ...           0           0           1           4   \n",
              "2016-10-31 16:22:00  ...           0           0           2           5   \n",
              "\n",
              "                     8321458993  8321458994  8321459001  8321459093  \\\n",
              "2016-10-31 16:02:00           0           0           0           0   \n",
              "2016-10-31 16:07:00           0           0           0           0   \n",
              "2016-10-31 16:12:00           0           0           0           0   \n",
              "2016-10-31 16:17:00           0           0           0           0   \n",
              "2016-10-31 16:22:00           0           0           0           0   \n",
              "\n",
              "                     8321552780  8321552782  \n",
              "2016-10-31 16:02:00           0           0  \n",
              "2016-10-31 16:07:00           0           0  \n",
              "2016-10-31 16:12:00           0           0  \n",
              "2016-10-31 16:17:00           0           0  \n",
              "2016-10-31 16:22:00           0           0  \n",
              "\n",
              "[5 rows x 3193 columns]"
            ],
            "text/html": [
              "\n",
              "  <div id=\"df-5cfe32d4-1572-4626-aaac-26b6aae247fb\">\n",
              "    <div class=\"colab-df-container\">\n",
              "      <div>\n",
              "<style scoped>\n",
              "    .dataframe tbody tr th:only-of-type {\n",
              "        vertical-align: middle;\n",
              "    }\n",
              "\n",
              "    .dataframe tbody tr th {\n",
              "        vertical-align: top;\n",
              "    }\n",
              "\n",
              "    .dataframe thead th {\n",
              "        text-align: right;\n",
              "    }\n",
              "</style>\n",
              "<table border=\"1\" class=\"dataframe\">\n",
              "  <thead>\n",
              "    <tr style=\"text-align: right;\">\n",
              "      <th></th>\n",
              "      <th>288416374</th>\n",
              "      <th>288416379</th>\n",
              "      <th>288416380</th>\n",
              "      <th>288416386</th>\n",
              "      <th>288416399</th>\n",
              "      <th>314622896</th>\n",
              "      <th>314622918</th>\n",
              "      <th>314623160</th>\n",
              "      <th>314635488</th>\n",
              "      <th>314655436</th>\n",
              "      <th>...</th>\n",
              "      <th>8318574243</th>\n",
              "      <th>8318574244</th>\n",
              "      <th>8318574253</th>\n",
              "      <th>8320254523</th>\n",
              "      <th>8321458993</th>\n",
              "      <th>8321458994</th>\n",
              "      <th>8321459001</th>\n",
              "      <th>8321459093</th>\n",
              "      <th>8321552780</th>\n",
              "      <th>8321552782</th>\n",
              "    </tr>\n",
              "  </thead>\n",
              "  <tbody>\n",
              "    <tr>\n",
              "      <th>2016-10-31 16:02:00</th>\n",
              "      <td>0</td>\n",
              "      <td>1</td>\n",
              "      <td>1</td>\n",
              "      <td>0</td>\n",
              "      <td>0</td>\n",
              "      <td>0</td>\n",
              "      <td>0</td>\n",
              "      <td>0</td>\n",
              "      <td>1</td>\n",
              "      <td>0</td>\n",
              "      <td>...</td>\n",
              "      <td>0</td>\n",
              "      <td>0</td>\n",
              "      <td>0</td>\n",
              "      <td>1</td>\n",
              "      <td>0</td>\n",
              "      <td>0</td>\n",
              "      <td>0</td>\n",
              "      <td>0</td>\n",
              "      <td>0</td>\n",
              "      <td>0</td>\n",
              "    </tr>\n",
              "    <tr>\n",
              "      <th>2016-10-31 16:07:00</th>\n",
              "      <td>0</td>\n",
              "      <td>1</td>\n",
              "      <td>3</td>\n",
              "      <td>0</td>\n",
              "      <td>0</td>\n",
              "      <td>1</td>\n",
              "      <td>8</td>\n",
              "      <td>3</td>\n",
              "      <td>7</td>\n",
              "      <td>0</td>\n",
              "      <td>...</td>\n",
              "      <td>0</td>\n",
              "      <td>0</td>\n",
              "      <td>0</td>\n",
              "      <td>1</td>\n",
              "      <td>0</td>\n",
              "      <td>0</td>\n",
              "      <td>0</td>\n",
              "      <td>0</td>\n",
              "      <td>0</td>\n",
              "      <td>0</td>\n",
              "    </tr>\n",
              "    <tr>\n",
              "      <th>2016-10-31 16:12:00</th>\n",
              "      <td>0</td>\n",
              "      <td>4</td>\n",
              "      <td>5</td>\n",
              "      <td>2</td>\n",
              "      <td>0</td>\n",
              "      <td>0</td>\n",
              "      <td>7</td>\n",
              "      <td>5</td>\n",
              "      <td>2</td>\n",
              "      <td>0</td>\n",
              "      <td>...</td>\n",
              "      <td>0</td>\n",
              "      <td>0</td>\n",
              "      <td>1</td>\n",
              "      <td>1</td>\n",
              "      <td>0</td>\n",
              "      <td>0</td>\n",
              "      <td>0</td>\n",
              "      <td>0</td>\n",
              "      <td>0</td>\n",
              "      <td>0</td>\n",
              "    </tr>\n",
              "    <tr>\n",
              "      <th>2016-10-31 16:17:00</th>\n",
              "      <td>6</td>\n",
              "      <td>5</td>\n",
              "      <td>3</td>\n",
              "      <td>7</td>\n",
              "      <td>1</td>\n",
              "      <td>4</td>\n",
              "      <td>12</td>\n",
              "      <td>3</td>\n",
              "      <td>6</td>\n",
              "      <td>0</td>\n",
              "      <td>...</td>\n",
              "      <td>0</td>\n",
              "      <td>0</td>\n",
              "      <td>1</td>\n",
              "      <td>4</td>\n",
              "      <td>0</td>\n",
              "      <td>0</td>\n",
              "      <td>0</td>\n",
              "      <td>0</td>\n",
              "      <td>0</td>\n",
              "      <td>0</td>\n",
              "    </tr>\n",
              "    <tr>\n",
              "      <th>2016-10-31 16:22:00</th>\n",
              "      <td>2</td>\n",
              "      <td>5</td>\n",
              "      <td>5</td>\n",
              "      <td>4</td>\n",
              "      <td>0</td>\n",
              "      <td>5</td>\n",
              "      <td>20</td>\n",
              "      <td>9</td>\n",
              "      <td>10</td>\n",
              "      <td>0</td>\n",
              "      <td>...</td>\n",
              "      <td>0</td>\n",
              "      <td>0</td>\n",
              "      <td>2</td>\n",
              "      <td>5</td>\n",
              "      <td>0</td>\n",
              "      <td>0</td>\n",
              "      <td>0</td>\n",
              "      <td>0</td>\n",
              "      <td>0</td>\n",
              "      <td>0</td>\n",
              "    </tr>\n",
              "  </tbody>\n",
              "</table>\n",
              "<p>5 rows × 3193 columns</p>\n",
              "</div>\n",
              "      <button class=\"colab-df-convert\" onclick=\"convertToInteractive('df-5cfe32d4-1572-4626-aaac-26b6aae247fb')\"\n",
              "              title=\"Convert this dataframe to an interactive table.\"\n",
              "              style=\"display:none;\">\n",
              "        \n",
              "  <svg xmlns=\"http://www.w3.org/2000/svg\" height=\"24px\"viewBox=\"0 0 24 24\"\n",
              "       width=\"24px\">\n",
              "    <path d=\"M0 0h24v24H0V0z\" fill=\"none\"/>\n",
              "    <path d=\"M18.56 5.44l.94 2.06.94-2.06 2.06-.94-2.06-.94-.94-2.06-.94 2.06-2.06.94zm-11 1L8.5 8.5l.94-2.06 2.06-.94-2.06-.94L8.5 2.5l-.94 2.06-2.06.94zm10 10l.94 2.06.94-2.06 2.06-.94-2.06-.94-.94-2.06-.94 2.06-2.06.94z\"/><path d=\"M17.41 7.96l-1.37-1.37c-.4-.4-.92-.59-1.43-.59-.52 0-1.04.2-1.43.59L10.3 9.45l-7.72 7.72c-.78.78-.78 2.05 0 2.83L4 21.41c.39.39.9.59 1.41.59.51 0 1.02-.2 1.41-.59l7.78-7.78 2.81-2.81c.8-.78.8-2.07 0-2.86zM5.41 20L4 18.59l7.72-7.72 1.47 1.35L5.41 20z\"/>\n",
              "  </svg>\n",
              "      </button>\n",
              "      \n",
              "  <style>\n",
              "    .colab-df-container {\n",
              "      display:flex;\n",
              "      flex-wrap:wrap;\n",
              "      gap: 12px;\n",
              "    }\n",
              "\n",
              "    .colab-df-convert {\n",
              "      background-color: #E8F0FE;\n",
              "      border: none;\n",
              "      border-radius: 50%;\n",
              "      cursor: pointer;\n",
              "      display: none;\n",
              "      fill: #1967D2;\n",
              "      height: 32px;\n",
              "      padding: 0 0 0 0;\n",
              "      width: 32px;\n",
              "    }\n",
              "\n",
              "    .colab-df-convert:hover {\n",
              "      background-color: #E2EBFA;\n",
              "      box-shadow: 0px 1px 2px rgba(60, 64, 67, 0.3), 0px 1px 3px 1px rgba(60, 64, 67, 0.15);\n",
              "      fill: #174EA6;\n",
              "    }\n",
              "\n",
              "    [theme=dark] .colab-df-convert {\n",
              "      background-color: #3B4455;\n",
              "      fill: #D2E3FC;\n",
              "    }\n",
              "\n",
              "    [theme=dark] .colab-df-convert:hover {\n",
              "      background-color: #434B5C;\n",
              "      box-shadow: 0px 1px 3px 1px rgba(0, 0, 0, 0.15);\n",
              "      filter: drop-shadow(0px 1px 2px rgba(0, 0, 0, 0.3));\n",
              "      fill: #FFFFFF;\n",
              "    }\n",
              "  </style>\n",
              "\n",
              "      <script>\n",
              "        const buttonEl =\n",
              "          document.querySelector('#df-5cfe32d4-1572-4626-aaac-26b6aae247fb button.colab-df-convert');\n",
              "        buttonEl.style.display =\n",
              "          google.colab.kernel.accessAllowed ? 'block' : 'none';\n",
              "\n",
              "        async function convertToInteractive(key) {\n",
              "          const element = document.querySelector('#df-5cfe32d4-1572-4626-aaac-26b6aae247fb');\n",
              "          const dataTable =\n",
              "            await google.colab.kernel.invokeFunction('convertToInteractive',\n",
              "                                                     [key], {});\n",
              "          if (!dataTable) return;\n",
              "\n",
              "          const docLinkHtml = 'Like what you see? Visit the ' +\n",
              "            '<a target=\"_blank\" href=https://colab.research.google.com/notebooks/data_table.ipynb>data table notebook</a>'\n",
              "            + ' to learn more about interactive tables.';\n",
              "          element.innerHTML = '';\n",
              "          dataTable['output_type'] = 'display_data';\n",
              "          await google.colab.output.renderOutput(dataTable, element);\n",
              "          const docLink = document.createElement('div');\n",
              "          docLink.innerHTML = docLinkHtml;\n",
              "          element.appendChild(docLink);\n",
              "        }\n",
              "      </script>\n",
              "    </div>\n",
              "  </div>\n",
              "  "
            ]
          },
          "metadata": {},
          "execution_count": 217
        }
      ]
    },
    {
      "cell_type": "code",
      "source": [
        "nodes=[str(i) for i in traffic_data]"
      ],
      "metadata": {
        "id": "eHKh_3ddQ77J"
      },
      "execution_count": 218,
      "outputs": []
    },
    {
      "cell_type": "code",
      "source": [
        "print(\"No. of nodes: \",len(nodes))\n",
        "print(\"No. of time steps: \",len(traffic_data[nodes[0]]))"
      ],
      "metadata": {
        "colab": {
          "base_uri": "https://localhost:8080/"
        },
        "id": "1YOKTew_RHNS",
        "outputId": "960258fe-2529-4d74-cd44-7637c7b82c92"
      },
      "execution_count": 219,
      "outputs": [
        {
          "output_type": "stream",
          "name": "stdout",
          "text": [
            "No. of nodes:  3193\n",
            "No. of time steps:  1613\n"
          ]
        }
      ]
    },
    {
      "cell_type": "code",
      "source": [
        "X=[]\n",
        "Y=[]\n",
        "for i in range(traffic_data.shape[0]-1):\n",
        "  X.append(traffic_data.iloc[i,:])\n",
        "  Y.append(traffic_data.iloc[i+1,:])\n",
        "X=np.asarray(X)\n",
        "Y=np.asarray(Y)"
      ],
      "metadata": {
        "id": "4TAWpQtkYdFS"
      },
      "execution_count": 220,
      "outputs": []
    },
    {
      "cell_type": "code",
      "source": [
        "print(X.shape)\n",
        "print(Y.shape)"
      ],
      "metadata": {
        "colab": {
          "base_uri": "https://localhost:8080/"
        },
        "id": "9Qb9gu4KfGEN",
        "outputId": "569bae10-27b1-40ee-e098-454ed8f3c59d"
      },
      "execution_count": 221,
      "outputs": [
        {
          "output_type": "stream",
          "name": "stdout",
          "text": [
            "(1612, 3193)\n",
            "(1612, 3193)\n"
          ]
        }
      ]
    },
    {
      "cell_type": "markdown",
      "source": [
        "### Loading the train, test and validation nodes."
      ],
      "metadata": {
        "id": "qWNipsp6K-sQ"
      }
    },
    {
      "cell_type": "code",
      "source": [
        "def get_train_test_validation_nodes(filename):\n",
        "  data=np.load(filename)\n",
        "  train_nodes=data[\"train_node_ids\"].astype(\"str\")\n",
        "  test_nodes=data[\"test_node_ids\"].astype(\"str\")\n",
        "  validation_nodes=data[\"val_node_ids\"].astype(\"str\")\n",
        "  return train_nodes,test_nodes,validation_nodes"
      ],
      "metadata": {
        "id": "xxmV5c8VSnM-"
      },
      "execution_count": 222,
      "outputs": []
    },
    {
      "cell_type": "code",
      "source": [
        "train_nodes,test_nodes,validation_nodes=get_train_test_validation_nodes(\"d1_graph_splits.npz\")"
      ],
      "metadata": {
        "id": "6RKyPOmTK0QU"
      },
      "execution_count": 223,
      "outputs": []
    },
    {
      "cell_type": "code",
      "source": [
        "train_nodes_mask=torch.zeros(len(nodes),dtype=torch.bool)\n",
        "test_nodes_mask=torch.zeros(len(nodes),dtype=torch.bool)\n",
        "validation_nodes_mask=torch.zeros(len(nodes),dtype=torch.bool)\n",
        "\n",
        "node_mapping={}\n",
        "inverse_node_mapping={}\n",
        "for t in enumerate(nodes):\n",
        "  node_mapping[str(t[1])]=t[0]\n",
        "  inverse_node_mapping[t[0]]=str(t[1])\n",
        "\n",
        "for node in train_nodes:\n",
        "  if node in nodes:\n",
        "    train_nodes_mask[node_mapping[node]]=True\n",
        "  else:\n",
        "    print(f\"Node {node} not present as the column of nodes\")\n",
        "\n",
        "for node in test_nodes:\n",
        "  if node in nodes:\n",
        "    test_nodes_mask[node_mapping[node]]=True\n",
        "  else:\n",
        "    print(f\"Node {node} not present as the column of nodes\")\n",
        "\n",
        "for node in validation_nodes:\n",
        "  if node in nodes:\n",
        "    validation_nodes_mask[node_mapping[node]]=True\n",
        "  else:\n",
        "    print(f\"Node {node} not present as the column of nodes\")\n"
      ],
      "metadata": {
        "id": "7jn9x8elf0T_"
      },
      "execution_count": 224,
      "outputs": []
    },
    {
      "cell_type": "markdown",
      "source": [
        "### Loading the graph dense adjacency matrix and making it sparse"
      ],
      "metadata": {
        "id": "ABHzOoddVvD7"
      }
    },
    {
      "cell_type": "code",
      "source": [
        "data_adj=pd.read_csv(\"d1_adj_mx.csv\",index_col=0)\n",
        "data_adj.fillna(0,inplace=True)"
      ],
      "metadata": {
        "id": "jeu7HlTVVvji"
      },
      "execution_count": 225,
      "outputs": []
    },
    {
      "cell_type": "code",
      "source": [
        "print(data_adj.head())"
      ],
      "metadata": {
        "colab": {
          "base_uri": "https://localhost:8080/"
        },
        "id": "0VEtMS_RW6oj",
        "outputId": "7156de00-308b-4acf-c5bc-31c70929e86f"
      },
      "execution_count": 226,
      "outputs": [
        {
          "output_type": "stream",
          "name": "stdout",
          "text": [
            "           288416374  288416379  288416380  288416386  288416399  314622896  \\\n",
            "288416374        0.0        0.0        0.0        0.0        0.0        0.0   \n",
            "288416379        0.0        0.0        0.0        0.0        0.0        0.0   \n",
            "288416380        0.0        0.0        0.0        0.0        0.0        0.0   \n",
            "288416386        0.0        0.0        0.0        0.0        0.0        0.0   \n",
            "288416399        0.0        0.0        0.0        0.0        0.0        0.0   \n",
            "\n",
            "           314622918  314623160  314635488  314655436  ...  8318574243  \\\n",
            "288416374        0.0        0.0        0.0     173.86  ...         0.0   \n",
            "288416379        0.0        0.0        0.0       0.00  ...         0.0   \n",
            "288416380        0.0        0.0        0.0       0.00  ...         0.0   \n",
            "288416386        0.0        0.0        0.0       0.00  ...         0.0   \n",
            "288416399        0.0        0.0        0.0       0.00  ...         0.0   \n",
            "\n",
            "           8318574244  8318574253  8320254523  8321458993  8321458994  \\\n",
            "288416374         0.0         0.0         0.0         0.0         0.0   \n",
            "288416379         0.0         0.0         0.0         0.0         0.0   \n",
            "288416380         0.0         0.0         0.0         0.0         0.0   \n",
            "288416386         0.0         0.0         0.0         0.0         0.0   \n",
            "288416399         0.0         0.0         0.0         0.0         0.0   \n",
            "\n",
            "           8321459001  8321459093  8321552780  8321552782  \n",
            "288416374         0.0         0.0         0.0         0.0  \n",
            "288416379         0.0         0.0         0.0         0.0  \n",
            "288416380         0.0         0.0         0.0         0.0  \n",
            "288416386         0.0         0.0         0.0         0.0  \n",
            "288416399         0.0         0.0         0.0         0.0  \n",
            "\n",
            "[5 rows x 3193 columns]\n"
          ]
        }
      ]
    },
    {
      "cell_type": "code",
      "source": [
        "edge_index,edge_weight=dense_to_sparse(torch.from_numpy(data_adj.values))\n",
        "\"\"\"\n",
        "  Uncomment according to the dataset\n",
        "\"\"\"\n",
        "if not isEdgeLength:\n",
        "  edge_weight=1/edge_weight"
      ],
      "metadata": {
        "id": "TGxcOWRTWNAQ"
      },
      "execution_count": 227,
      "outputs": []
    },
    {
      "cell_type": "markdown",
      "source": [
        "### Model Class"
      ],
      "metadata": {
        "id": "DnxIBQX7ZdO_"
      }
    },
    {
      "cell_type": "code",
      "source": [
        "from torch_geometric.nn import SAGEConv, GATv2Conv\n",
        "class Model(torch.nn.Module):\n",
        "  def __init__(self):\n",
        "    super().__init__()\n",
        "    self.layer1=SAGEConv(1,32,'mean')\n",
        "    self.layer2=SAGEConv(32,16,'mean')\n",
        "    # self.layer1 = GATv2Conv(1, 32, edge_dim=1)\n",
        "    # self.layer2 = GATv2Conv(32, 16, edge_dim=1)\n",
        "    self.linear=torch.nn.Linear(16,1)\n",
        "  \n",
        "  def forward(self,d):\n",
        "    X,edge_index,edge_weight=d.x,d.edge_index,d.edge_weight\n",
        "\n",
        "    output1=F.relu(self.layer1(X,edge_index))\n",
        "    output2=F.relu(self.layer2(output1,edge_index))\n",
        "\n",
        "    output=self.linear(output2)\n",
        "\n",
        "    return output"
      ],
      "metadata": {
        "id": "wgsE72zVZhRu"
      },
      "execution_count": 228,
      "outputs": []
    },
    {
      "cell_type": "markdown",
      "source": [
        "### Creating batches of data"
      ],
      "metadata": {
        "id": "jWYzjdQQcW4a"
      }
    },
    {
      "cell_type": "code",
      "source": [
        "final_data=[]\n",
        "for i in range(X.shape[0]):\n",
        "  x=torch.tensor(X[i],dtype=torch.double).reshape(-1,1)\n",
        "  y=torch.tensor(Y[i],dtype=torch.double).reshape(-1,1)\n",
        "  d=Data(x=x,y=y,edge_index=edge_index)\n",
        "  d.train_nodes_mask=train_nodes_mask\n",
        "  d.test_nodes_mask=test_nodes_mask\n",
        "  d.validation_nodes_mask=validation_nodes_mask\n",
        "  d.edge_weight=edge_weight\n",
        "  final_data.append(d)"
      ],
      "metadata": {
        "id": "fzxOuOjRbIII"
      },
      "execution_count": 229,
      "outputs": []
    },
    {
      "cell_type": "code",
      "source": [
        "from torch_geometric.loader import DataLoader\n",
        "dataloader=DataLoader(final_data,batch_size=32,shuffle=False)"
      ],
      "metadata": {
        "id": "JpDmyFFPcg9f"
      },
      "execution_count": 230,
      "outputs": []
    },
    {
      "cell_type": "code",
      "source": [
        "def calculate_loss(Y_pred,Y,node_mask):\n",
        "  return torch.mean(torch.abs(Y_pred[node_mask]-Y[node_mask])).item()"
      ],
      "metadata": {
        "id": "xtCmsd5UfYeg"
      },
      "execution_count": 231,
      "outputs": []
    },
    {
      "cell_type": "markdown",
      "source": [
        "### Model Instance"
      ],
      "metadata": {
        "id": "wrCPev7Vc2I4"
      }
    },
    {
      "cell_type": "code",
      "source": [
        "model=Model().double()"
      ],
      "metadata": {
        "id": "SN8hfMj5cwQ-"
      },
      "execution_count": 232,
      "outputs": []
    },
    {
      "cell_type": "markdown",
      "source": [
        "### Training the model"
      ],
      "metadata": {
        "id": "7YufxISTyfng"
      }
    },
    {
      "cell_type": "code",
      "source": [
        "last_error=1000000000000.0\n",
        "\n",
        "decay=1.0\n",
        "for iter in tqdm(range(nIter)):\n",
        "  model.train()\n",
        "  for i,data in enumerate(dataloader):\n",
        "    Y_pred=model(data)\n",
        "    error=F.mse_loss(Y_pred[data.train_nodes_mask],data.y[data.train_nodes_mask])\n",
        "    if i%100==0:\n",
        "      print(\"The current MSE is: \", error.item()/len(data))\n",
        "    optimizer=torch.optim.Adam(model.parameters(), lr=0.001*decay)\n",
        "    optimizer.zero_grad()\n",
        "    error.backward()\n",
        "    optimizer.step()\n",
        "    \n",
        "  model.eval()\n",
        "  error=0\n",
        "  n=len(dataloader.dataset)\n",
        "  for data in dataloader.dataset:\n",
        "    Y_pred=model(data)\n",
        "    error+=calculate_loss(Y_pred,data.y,validation_nodes_mask)\n",
        "  print(f\"The error after {iter+1} iterations is: \",error/n)\n",
        "  \"\"\"\n",
        "    Early stopping the training\n",
        "  \"\"\"\n",
        "  if early_stopping:\n",
        "    if abs(last_error-error/n)>=0.05:\n",
        "      last_error=error/n\n",
        "    else:\n",
        "      break\n",
        "  if toDecay and iter%5==0:\n",
        "    decay=decay/100.0"
      ],
      "metadata": {
        "colab": {
          "base_uri": "https://localhost:8080/"
        },
        "id": "j59_qV_jlIg8",
        "outputId": "d884b14e-0e80-4643-b800-2ae95c674730"
      },
      "execution_count": null,
      "outputs": [
        {
          "output_type": "stream",
          "name": "stderr",
          "text": [
            "\r  0%|          | 0/20 [00:00<?, ?it/s]"
          ]
        },
        {
          "output_type": "stream",
          "name": "stdout",
          "text": [
            "The current MSE is:  0.408698360315909\n"
          ]
        },
        {
          "output_type": "stream",
          "name": "stderr",
          "text": [
            "\r  5%|▌         | 1/20 [00:19<06:18, 19.92s/it]"
          ]
        },
        {
          "output_type": "stream",
          "name": "stdout",
          "text": [
            "The error after 1 iterations is:  2.5103462693511567\n",
            "The current MSE is:  0.13916033206259168\n"
          ]
        },
        {
          "output_type": "stream",
          "name": "stderr",
          "text": [
            "\r 10%|█         | 2/20 [00:37<05:35, 18.66s/it]"
          ]
        },
        {
          "output_type": "stream",
          "name": "stdout",
          "text": [
            "The error after 2 iterations is:  1.8171315480226158\n",
            "The current MSE is:  0.10330841918018435\n"
          ]
        },
        {
          "output_type": "stream",
          "name": "stderr",
          "text": [
            "\r 15%|█▌        | 3/20 [00:54<05:03, 17.86s/it]"
          ]
        },
        {
          "output_type": "stream",
          "name": "stdout",
          "text": [
            "The error after 3 iterations is:  1.7537641084927114\n",
            "The current MSE is:  0.10456512996457856\n"
          ]
        },
        {
          "output_type": "stream",
          "name": "stderr",
          "text": [
            "\r 20%|██        | 4/20 [01:11<04:39, 17.49s/it]"
          ]
        },
        {
          "output_type": "stream",
          "name": "stdout",
          "text": [
            "The error after 4 iterations is:  1.7161641270967882\n",
            "The current MSE is:  0.10363994023483246\n"
          ]
        },
        {
          "output_type": "stream",
          "name": "stderr",
          "text": [
            "\r 25%|██▌       | 5/20 [01:28<04:19, 17.32s/it]"
          ]
        },
        {
          "output_type": "stream",
          "name": "stdout",
          "text": [
            "The error after 5 iterations is:  1.720963288984428\n",
            "The current MSE is:  0.10388697655726788\n"
          ]
        },
        {
          "output_type": "stream",
          "name": "stderr",
          "text": [
            "\r 30%|███       | 6/20 [01:45<04:00, 17.20s/it]"
          ]
        },
        {
          "output_type": "stream",
          "name": "stdout",
          "text": [
            "The error after 6 iterations is:  1.7140473351992758\n",
            "The current MSE is:  0.10332820662032721\n"
          ]
        },
        {
          "output_type": "stream",
          "name": "stderr",
          "text": [
            "\r 35%|███▌      | 7/20 [02:03<03:46, 17.46s/it]"
          ]
        },
        {
          "output_type": "stream",
          "name": "stdout",
          "text": [
            "The error after 7 iterations is:  1.7536356321729571\n",
            "The current MSE is:  0.10520982312946833\n"
          ]
        },
        {
          "output_type": "stream",
          "name": "stderr",
          "text": [
            "\r 40%|████      | 8/20 [02:20<03:28, 17.38s/it]"
          ]
        },
        {
          "output_type": "stream",
          "name": "stdout",
          "text": [
            "The error after 8 iterations is:  1.7496898727623593\n",
            "The current MSE is:  0.10517500954837775\n"
          ]
        },
        {
          "output_type": "stream",
          "name": "stderr",
          "text": [
            "\r 45%|████▌     | 9/20 [02:39<03:16, 17.84s/it]"
          ]
        },
        {
          "output_type": "stream",
          "name": "stdout",
          "text": [
            "The error after 9 iterations is:  1.7500108031949413\n",
            "The current MSE is:  0.10510338363886938\n"
          ]
        }
      ]
    },
    {
      "cell_type": "code",
      "source": [
        "error=0\n",
        "n=len(dataloader.dataset)\n",
        "model.eval()\n",
        "for data in dataloader.dataset:\n",
        "  Y_pred=model(data)\n",
        "  error+=calculate_loss(Y_pred,data.y,test_nodes_mask)\n",
        "print(\"The testing accuracy is: \",error/n)"
      ],
      "metadata": {
        "id": "0LqJl4b7oSYI"
      },
      "execution_count": null,
      "outputs": []
    },
    {
      "cell_type": "code",
      "source": [
        "def plot_graph(Y,Y_pred):\n",
        "  plt.plot(np.arange(1,len(Y)),Y[1:])\n",
        "  plt.plot(np.arange(1,len(Y)),Y_pred[:-1], color = 'orange')\n",
        "  plt.legend(['actual', 'predicted'])"
      ],
      "metadata": {
        "id": "kMs-JC2z1vJW"
      },
      "execution_count": null,
      "outputs": []
    },
    {
      "cell_type": "code",
      "source": [
        "node_id=test_nodes[10]"
      ],
      "metadata": {
        "id": "WeBGYo7q-7x5"
      },
      "execution_count": null,
      "outputs": []
    },
    {
      "cell_type": "code",
      "source": [
        "Y_pred=np.empty((traffic_data.shape[1],traffic_data.shape[0]))\n",
        "with torch.no_grad():\n",
        "  model.eval()\n",
        "  for i,data in enumerate(final_data):\n",
        "    Y_pred[:,i:i+1]=model(data)"
      ],
      "metadata": {
        "id": "oLf8Dmex_FzZ"
      },
      "execution_count": null,
      "outputs": []
    },
    {
      "cell_type": "code",
      "source": [
        "y=np.array(traffic_data[node_id])\n",
        "y_pred=Y_pred[node_mapping[node_id],:]"
      ],
      "metadata": {
        "id": "dmMxP1UXAbdL"
      },
      "execution_count": null,
      "outputs": []
    },
    {
      "cell_type": "code",
      "source": [
        "from matplotlib.pyplot import figure\n",
        "figure(figsize=(20, 30), dpi=80)"
      ],
      "metadata": {
        "id": "SxbpA4LYEW3s"
      },
      "execution_count": null,
      "outputs": []
    },
    {
      "cell_type": "code",
      "source": [
        "plot_graph(y,y_pred)"
      ],
      "metadata": {
        "id": "tQvlpryKBErV"
      },
      "execution_count": null,
      "outputs": []
    },
    {
      "cell_type": "markdown",
      "source": [
        "### Saving the model"
      ],
      "metadata": {
        "id": "ft7mJEQ5lXHA"
      }
    },
    {
      "cell_type": "code",
      "source": [
        "torch.save(model,\"mcs212138_task1-1.model\")"
      ],
      "metadata": {
        "id": "MIngYfXYBcTW"
      },
      "execution_count": null,
      "outputs": []
    },
    {
      "cell_type": "code",
      "source": [],
      "metadata": {
        "id": "LRvD_ujdq_bx"
      },
      "execution_count": null,
      "outputs": []
    }
  ]
}